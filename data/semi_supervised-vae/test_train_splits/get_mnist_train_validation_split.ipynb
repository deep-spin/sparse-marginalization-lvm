{
 "cells": [
  {
   "cell_type": "code",
   "execution_count": 3,
   "metadata": {
    "collapsed": false
   },
   "outputs": [],
   "source": [
    "import numpy as np\n",
    "import torch\n",
    "\n",
    "import torchvision.datasets as dset\n",
    "import torchvision.transforms as transforms"
   ]
  },
  {
   "cell_type": "code",
   "execution_count": 4,
   "metadata": {},
   "outputs": [],
   "source": [
    "def load_mnist_data(data_dir='../mnist_data/', train=True):\n",
    "    if not os.path.exists(data_dir):\n",
    "        print('creaing folder: ', data_dir)\n",
    "        os.mkdir(data_dir)\n",
    "\n",
    "    def trans(x):\n",
    "        return transforms.ToTensor()(x).bernoulli()\n",
    "\n",
    "    data = dset.MNIST(\n",
    "        root=data_dir, train=train,\n",
    "        transform=trans, download=True)\n",
    "\n",
    "    return data\n"
   ]
  },
  {
   "cell_type": "markdown",
   "metadata": {},
   "source": [
    "# Load data"
   ]
  },
  {
   "cell_type": "code",
   "execution_count": 5,
   "metadata": {
    "collapsed": false
   },
   "outputs": [],
   "source": [
    "np.random.seed(351245)\n",
    "_ = torch.manual_seed(453453)"
   ]
  },
  {
   "cell_type": "code",
   "execution_count": 6,
   "metadata": {
    "collapsed": false,
    "tags": []
   },
   "outputs": [
    {
     "output_type": "stream",
     "name": "stderr",
     "text": "0it [00:00, ?it/s]creaing folder:  ../mnist_data/\nDownloading http://yann.lecun.com/exdb/mnist/train-images-idx3-ubyte.gz to ../mnist_data/MNIST/raw/train-images-idx3-ubyte.gz\n9920512it [00:05, 1736860.32it/s]\nExtracting ../mnist_data/MNIST/raw/train-images-idx3-ubyte.gz to ../mnist_data/MNIST/raw\n0it [00:00, ?it/s]Downloading http://yann.lecun.com/exdb/mnist/train-labels-idx1-ubyte.gz to ../mnist_data/MNIST/raw/train-labels-idx1-ubyte.gz\n32768it [00:01, 16895.42it/s]\n0it [00:00, ?it/s]Extracting ../mnist_data/MNIST/raw/train-labels-idx1-ubyte.gz to ../mnist_data/MNIST/raw\nDownloading http://yann.lecun.com/exdb/mnist/t10k-images-idx3-ubyte.gz to ../mnist_data/MNIST/raw/t10k-images-idx3-ubyte.gz\n1654784it [00:01, 1073456.69it/s]\n0it [00:00, ?it/s]Extracting ../mnist_data/MNIST/raw/t10k-images-idx3-ubyte.gz to ../mnist_data/MNIST/raw\nDownloading http://yann.lecun.com/exdb/mnist/t10k-labels-idx1-ubyte.gz to ../mnist_data/MNIST/raw/t10k-labels-idx1-ubyte.gz\n8192it [00:00, 15393.64it/s]\nExtracting ../mnist_data/MNIST/raw/t10k-labels-idx1-ubyte.gz to ../mnist_data/MNIST/raw\nProcessing...\nDone!\n"
    }
   ],
   "source": [
    "mnist_train_data = load_mnist_data(\n",
    "    data_dir='../mnist_data/', train=True)"
   ]
  },
  {
   "cell_type": "code",
   "execution_count": 7,
   "metadata": {
    "collapsed": false
   },
   "outputs": [],
   "source": [
    "n_train_total = len(mnist_train_data)"
   ]
  },
  {
   "cell_type": "code",
   "execution_count": 8,
   "metadata": {
    "collapsed": false,
    "tags": []
   },
   "outputs": [
    {
     "output_type": "stream",
     "name": "stdout",
     "text": "60000\n"
    }
   ],
   "source": [
    "all_indx = np.arange(n_train_total)\n",
    "print(len(all_indx))"
   ]
  },
  {
   "cell_type": "code",
   "execution_count": 9,
   "metadata": {
    "collapsed": false,
    "scrolled": true,
    "tags": []
   },
   "outputs": [
    {
     "output_type": "stream",
     "name": "stdout",
     "text": "10000\n"
    }
   ],
   "source": [
    "# get validation index\n",
    "validation_indx = np.random.choice(all_indx, 10000, replace = False) \n",
    "print(len(validation_indx))"
   ]
  },
  {
   "cell_type": "code",
   "execution_count": 10,
   "metadata": {
    "collapsed": false,
    "tags": []
   },
   "outputs": [
    {
     "output_type": "stream",
     "name": "stdout",
     "text": "50000\n"
    }
   ],
   "source": [
    "# remove validation observations \n",
    "train_bool = np.ones(n_train_total)\n",
    "train_bool[validation_indx] = 0.\n",
    "train_indx = all_indx[train_bool == 1]\n",
    "print(len(train_indx))"
   ]
  },
  {
   "cell_type": "code",
   "execution_count": 11,
   "metadata": {
    "collapsed": false,
    "tags": []
   },
   "outputs": [
    {
     "output_type": "stream",
     "name": "stdout",
     "text": "5000\n"
    }
   ],
   "source": [
    "labeled_train_indx = np.random.choice(train_indx, 5000, replace = False)\n",
    "print(len(labeled_train_indx))"
   ]
  },
  {
   "cell_type": "code",
   "execution_count": 12,
   "metadata": {
    "collapsed": false
   },
   "outputs": [],
   "source": [
    "train_bool[labeled_train_indx] = 0."
   ]
  },
  {
   "cell_type": "code",
   "execution_count": 13,
   "metadata": {
    "collapsed": false,
    "tags": []
   },
   "outputs": [
    {
     "output_type": "stream",
     "name": "stdout",
     "text": "45000\n"
    }
   ],
   "source": [
    "unlabeled_train_indx = all_indx[train_bool == 1] \n",
    "print(len(unlabeled_train_indx))"
   ]
  },
  {
   "cell_type": "code",
   "execution_count": 14,
   "metadata": {
    "collapsed": false,
    "tags": []
   },
   "outputs": [
    {
     "output_type": "stream",
     "name": "stdout",
     "text": "[]\n"
    }
   ],
   "source": [
    "print(np.intersect1d(validation_indx, labeled_train_indx))\n",
    "assert len(np.intersect1d(validation_indx, labeled_train_indx)) == 0"
   ]
  },
  {
   "cell_type": "code",
   "execution_count": 15,
   "metadata": {
    "collapsed": false,
    "tags": []
   },
   "outputs": [
    {
     "output_type": "stream",
     "name": "stdout",
     "text": "[]\n"
    }
   ],
   "source": [
    "print(np.intersect1d(validation_indx, unlabeled_train_indx))\n",
    "assert len(np.intersect1d(validation_indx, unlabeled_train_indx)) == 0"
   ]
  },
  {
   "cell_type": "code",
   "execution_count": 16,
   "metadata": {
    "collapsed": false,
    "tags": []
   },
   "outputs": [
    {
     "output_type": "stream",
     "name": "stdout",
     "text": "[]\n"
    }
   ],
   "source": [
    "print(np.intersect1d(labeled_train_indx, unlabeled_train_indx))\n",
    "assert len(np.intersect1d(validation_indx, unlabeled_train_indx)) == 0"
   ]
  },
  {
   "cell_type": "code",
   "execution_count": 17,
   "metadata": {
    "collapsed": false
   },
   "outputs": [],
   "source": [
    "len(np.union1d(np.union1d(labeled_train_indx, unlabeled_train_indx), validation_indx))\n",
    "assert len(np.union1d(np.union1d(labeled_train_indx, unlabeled_train_indx), validation_indx)) == 60000"
   ]
  },
  {
   "cell_type": "code",
   "execution_count": 19,
   "metadata": {
    "collapsed": true
   },
   "outputs": [],
   "source": [
    "np.save('validation_indx.npy', validation_indx)"
   ]
  },
  {
   "cell_type": "code",
   "execution_count": 20,
   "metadata": {
    "collapsed": true
   },
   "outputs": [],
   "source": [
    "np.save('unlabeled_train_indx.npy', unlabeled_train_indx)"
   ]
  },
  {
   "cell_type": "code",
   "execution_count": 21,
   "metadata": {
    "collapsed": true
   },
   "outputs": [],
   "source": [
    "np.save('labeled_train_indx.npy', labeled_train_indx)"
   ]
  }
 ],
 "metadata": {
  "kernelspec": {
   "display_name": "Python 3.7.5 64-bit ('py371': virtualenv)",
   "language": "python",
   "name": "python37564bitpy371virtualenv6b21f57c175a4942a2e9f7565c856c98"
  },
  "language_info": {
   "codemirror_mode": {
    "name": "ipython",
    "version": 3
   },
   "file_extension": ".py",
   "mimetype": "text/x-python",
   "name": "python",
   "nbconvert_exporter": "python",
   "pygments_lexer": "ipython3",
   "version": "3.7.5-final"
  }
 },
 "nbformat": 4,
 "nbformat_minor": 2
}